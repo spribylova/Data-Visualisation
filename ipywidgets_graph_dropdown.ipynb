{
  "nbformat": 4,
  "nbformat_minor": 0,
  "metadata": {
    "colab": {
      "provenance": []
    },
    "kernelspec": {
      "name": "python3",
      "display_name": "Python 3"
    },
    "language_info": {
      "name": "python"
    }
  },
  "cells": [
    {
      "cell_type": "code",
      "execution_count": null,
      "metadata": {
        "id": "c0z6iKeSrrzV"
      },
      "outputs": [],
      "source": [
        "# Dropdown in ipywidgets"
      ]
    },
    {
      "cell_type": "code",
      "source": [
        "import pandas as pd\n",
        "import numpy as np\n",
        "from urllib.request import urlopen\n",
        "import json\n",
        "import matplotlib.pyplot as plt\n",
        "import plotly.express as px\n",
        "import seaborn as sns # optional, will only affect the color of bars and the grid\n",
        "from ipywidgets import widgets, interactive\n",
        "from ipywidgets import Layout, interact, IntSlider"
      ],
      "metadata": {
        "id": "ji3VtHO2ryd7"
      },
      "execution_count": null,
      "outputs": []
    },
    {
      "cell_type": "code",
      "source": [
        "plt.rcParams['figure.figsize'] = [15, 4] # change the default plot width"
      ],
      "metadata": {
        "id": "3PYp_rzl0RTv"
      },
      "execution_count": null,
      "outputs": []
    },
    {
      "cell_type": "code",
      "source": [
        "# Marke,Mitarbeiter 2025,Gegründet,Stadt,Land,Filialen,Mitarbeiter per Filiale,CEO 2025,Website\n",
        "df = pd.read_csv( 'DE_Mode.csv' , delimiter=',', encoding=\"utf-8-sig\")\n",
        "df = df.sort_values('Mitarbeiter 2025', ascending=False)\n",
        "df.head()"
      ],
      "metadata": {
        "id": "RCLszs0Bryh-"
      },
      "execution_count": null,
      "outputs": []
    },
    {
      "cell_type": "code",
      "source": [
        "# 1. Make a dropdown to select the Area, or \"All\"\n",
        "land = widgets.Dropdown(\n",
        "    options=['All'] + list(df['Land'].unique()),\n",
        "    value='All',\n",
        "    description='Land:',\n",
        ")\n",
        "\n",
        "def plotit(land):\n",
        "\n",
        "\n",
        "        df2 = df.copy()\n",
        "        if land != 'All':\n",
        "            df2 = df2[df2.Land == land]\n",
        "\n",
        "\n",
        "        # Plot it (only if there's data to plot)\n",
        "        if len(df2) > 0:\n",
        "            df2.groupby(['Marke','Marke']).sum()['Mitarbeiter 2025'].unstack().plot(kind='bar', stacked=True, legend=False, title=\"Land = {}\".format(land))\n",
        "            plt.show();\n",
        "        else:\n",
        "            print(\"No data to show for current selection\")"
      ],
      "metadata": {
        "id": "gei1N1NCrys-"
      },
      "execution_count": null,
      "outputs": []
    },
    {
      "cell_type": "code",
      "source": [
        "interactive(plotit,land=land)"
      ],
      "metadata": {
        "id": "XK3Z_QbZr38L"
      },
      "execution_count": null,
      "outputs": []
    },
    {
      "cell_type": "code",
      "source": [
        "# 2. Make a dropdown to select the Area without \"All\", only with implicit Value for 1 Land\n",
        "land = widgets.Dropdown(\n",
        "    options=['DE'] + list(df['Land'].unique()),\n",
        "    value='DE',\n",
        "    description='Land:',\n",
        ")\n",
        "\n",
        "def plotit(land):\n",
        "\n",
        "        df2 = df.copy()\n",
        "        if land != 'All':\n",
        "            df2 = df2[df2.Land == land]\n",
        "\n",
        "\n",
        "        # Plot it (only if there's data to plot)\n",
        "        if len(df2) > 0:\n",
        "            df2.groupby(['Marke','Marke']).sum()['Mitarbeiter 2025'].unstack().plot(kind='bar', stacked=True, legend=False, title=\"Employee Count in 2025 where Headquarters Land = {}\".format(land))\n",
        "\n",
        "            plt.show();\n",
        "        else:\n",
        "            print(\"No data to show for current selection\")"
      ],
      "metadata": {
        "id": "4h-9fGMysOzp"
      },
      "execution_count": null,
      "outputs": []
    },
    {
      "cell_type": "code",
      "source": [
        "interactive(plotit, land=land)"
      ],
      "metadata": {
        "id": "kdON8xOvr4A2"
      },
      "execution_count": null,
      "outputs": []
    },
    {
      "cell_type": "code",
      "source": [],
      "metadata": {
        "id": "snSUZiO0om9l"
      },
      "execution_count": null,
      "outputs": []
    },
    {
      "cell_type": "code",
      "source": [],
      "metadata": {
        "id": "zBoXSHpeonWd"
      },
      "execution_count": null,
      "outputs": []
    }
  ]
}